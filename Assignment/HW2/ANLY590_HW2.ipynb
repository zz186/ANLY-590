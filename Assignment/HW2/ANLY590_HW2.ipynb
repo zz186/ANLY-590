{
  "nbformat": 4,
  "nbformat_minor": 0,
  "metadata": {
    "colab": {
      "name": "ANLY590-HW2.ipynb",
      "version": "0.3.2",
      "provenance": [],
      "include_colab_link": true
    },
    "kernelspec": {
      "name": "python3",
      "display_name": "Python 3"
    },
    "accelerator": "GPU"
  },
  "cells": [
    {
      "cell_type": "markdown",
      "metadata": {
        "id": "view-in-github",
        "colab_type": "text"
      },
      "source": [
        "<a href=\"https://colab.research.google.com/github/zz186/ANLY-590/blob/master/ANLY590_HW2.ipynb\" target=\"_parent\"><img src=\"https://colab.research.google.com/assets/colab-badge.svg\" alt=\"Open In Colab\"/></a>"
      ]
    },
    {
      "metadata": {
        "id": "zdrkWAkKhvQx",
        "colab_type": "text"
      },
      "cell_type": "markdown",
      "source": [
        "# ANLY590-HW2\n",
        "# Ze Zheng"
      ]
    },
    {
      "metadata": {
        "id": "85LQq0rG3E8o",
        "colab_type": "text"
      },
      "cell_type": "markdown",
      "source": [
        "## 1 Autoencoder"
      ]
    },
    {
      "metadata": {
        "id": "c-luC8aVhnsH",
        "colab_type": "code",
        "colab": {}
      },
      "cell_type": "code",
      "source": [
        "from keras.layers import Input, Dense, Conv2D, MaxPooling2D, UpSampling2D, Dropout, SimpleRNN, LSTM, Embedding,Bidirectional,Activation, Flatten,GlobalMaxPooling1D \n",
        "from keras.layers.normalization import BatchNormalization\n",
        "from keras.layers.convolutional import Conv2D, MaxPooling2D, ZeroPadding2D, AveragePooling2D, Conv1D, MaxPooling1D\n",
        "from keras.models import Model,Sequential\n",
        "from keras import backend as K\n",
        "import matplotlib.pyplot as plt\n",
        "from keras.datasets import fashion_mnist\n",
        "import numpy as np\n",
        "import pandas as pd\n",
        "\n",
        "from keras.datasets import fashion_mnist\n",
        "from keras.layers.core import Dense, Dropout, Activation, Flatten, Reshape\n",
        "from keras.optimizers import SGD, RMSprop\n",
        "from keras.utils import np_utils\n",
        "import cv2\n",
        "from keras.applications import VGG16\n",
        "\n",
        "from keras.preprocessing import sequence\n",
        "import requests\n",
        "from sklearn.model_selection import train_test_split\n",
        "from keras.optimizers import RMSprop\n",
        "from keras.preprocessing.text import Tokenizer\n",
        "from keras.utils.np_utils import to_categorical"
      ],
      "execution_count": 0,
      "outputs": []
    },
    {
      "metadata": {
        "id": "9qjZeJ6P3XFB",
        "colab_type": "code",
        "colab": {
          "base_uri": "https://localhost:8080/",
          "height": 153
        },
        "outputId": "4e61dd2b-3238-40fb-8593-6a0460781212"
      },
      "cell_type": "code",
      "source": [
        "#load the data\n",
        "(x_train, _), (x_test, _) = fashion_mnist.load_data()\n",
        "\n",
        "x_train = x_train.astype('float32') / 255.\n",
        "x_test = x_test.astype('float32') / 255.\n",
        "x_train = np.reshape(x_train, (len(x_train), 28, 28, 1))  \n",
        "x_test = np.reshape(x_test, (len(x_test), 28, 28, 1))"
      ],
      "execution_count": 4,
      "outputs": [
        {
          "output_type": "stream",
          "text": [
            "Downloading data from http://fashion-mnist.s3-website.eu-central-1.amazonaws.com/train-labels-idx1-ubyte.gz\n",
            "32768/29515 [=================================] - 0s 0us/step\n",
            "Downloading data from http://fashion-mnist.s3-website.eu-central-1.amazonaws.com/train-images-idx3-ubyte.gz\n",
            "26427392/26421880 [==============================] - 0s 0us/step\n",
            "Downloading data from http://fashion-mnist.s3-website.eu-central-1.amazonaws.com/t10k-labels-idx1-ubyte.gz\n",
            "8192/5148 [===============================================] - 0s 0us/step\n",
            "Downloading data from http://fashion-mnist.s3-website.eu-central-1.amazonaws.com/t10k-images-idx3-ubyte.gz\n",
            "4423680/4422102 [==============================] - 0s 0us/step\n"
          ],
          "name": "stdout"
        }
      ]
    },
    {
      "metadata": {
        "id": "qsjDHbLT3QTF",
        "colab_type": "code",
        "colab": {}
      },
      "cell_type": "code",
      "source": [
        "input_img = Input(shape=(28, 28, 1))  \n",
        "\n",
        "x = Conv2D(16, (3, 3), activation='relu', padding='same')(input_img)\n",
        "x = MaxPooling2D((2, 2), padding='same')(x)\n",
        "x = Dropout(0.3)(x)\n",
        "x = Conv2D(32, (3, 3), activation='relu', padding='same')(x)\n",
        "x = MaxPooling2D((2, 2), padding='same')(x)\n",
        "x = Dropout(0.3)(x)\n",
        "x = Conv2D(64, (3, 3), activation='relu', padding='same')(x)\n",
        "encoded = MaxPooling2D((2,2), padding='same')(x)\n",
        "\n",
        "x = Conv2D(64, (3, 3), activation='relu', padding='same')(encoded)\n",
        "x = Dropout(0.3)(x)\n",
        "x = UpSampling2D((2, 2))(x)\n",
        "x = Conv2D(32, (3, 3), activation='relu', padding='same')(x)\n",
        "x = Dropout(0.3)(x)\n",
        "x = UpSampling2D((2, 2))(x)\n",
        "x = Conv2D(16, (3, 3), activation='relu')(x)\n",
        "x = UpSampling2D((2, 2))(x)\n",
        "decoded = Conv2D(1, (3, 3), activation='sigmoid', padding='same')(x)\n",
        "\n",
        "autoencoder = Model(input_img, decoded)\n",
        "autoencoder.compile(optimizer='adadelta', loss='binary_crossentropy')"
      ],
      "execution_count": 0,
      "outputs": []
    },
    {
      "metadata": {
        "id": "M4JV-xPg3bpc",
        "colab_type": "code",
        "colab": {
          "base_uri": "https://localhost:8080/",
          "height": 561
        },
        "outputId": "0b02b20e-8e7a-4eb1-ab23-ea5825bcc7d3"
      },
      "cell_type": "code",
      "source": [
        "#train\n",
        "autoencoder.fit(x_train, x_train,\n",
        "                epochs=15,\n",
        "                batch_size=128,\n",
        "                shuffle=True,\n",
        "                validation_data=(x_test, x_test))"
      ],
      "execution_count": 7,
      "outputs": [
        {
          "output_type": "stream",
          "text": [
            "Train on 60000 samples, validate on 10000 samples\n",
            "Epoch 1/15\n",
            "60000/60000 [==============================] - 9s 157us/step - loss: 0.3653 - val_loss: 0.3299\n",
            "Epoch 2/15\n",
            "60000/60000 [==============================] - 9s 144us/step - loss: 0.3244 - val_loss: 0.3090\n",
            "Epoch 3/15\n",
            "60000/60000 [==============================] - 9s 143us/step - loss: 0.3159 - val_loss: 0.3135\n",
            "Epoch 4/15\n",
            "60000/60000 [==============================] - 9s 143us/step - loss: 0.3110 - val_loss: 0.3009\n",
            "Epoch 5/15\n",
            "60000/60000 [==============================] - 9s 144us/step - loss: 0.3075 - val_loss: 0.3038\n",
            "Epoch 6/15\n",
            "60000/60000 [==============================] - 9s 144us/step - loss: 0.3049 - val_loss: 0.2967\n",
            "Epoch 7/15\n",
            "60000/60000 [==============================] - 9s 143us/step - loss: 0.3026 - val_loss: 0.2944\n",
            "Epoch 8/15\n",
            "60000/60000 [==============================] - 9s 143us/step - loss: 0.3010 - val_loss: 0.2929\n",
            "Epoch 9/15\n",
            "60000/60000 [==============================] - 9s 143us/step - loss: 0.2995 - val_loss: 0.2951\n",
            "Epoch 10/15\n",
            "60000/60000 [==============================] - 9s 144us/step - loss: 0.2982 - val_loss: 0.2895\n",
            "Epoch 11/15\n",
            "60000/60000 [==============================] - 9s 144us/step - loss: 0.2972 - val_loss: 0.2930\n",
            "Epoch 12/15\n",
            "60000/60000 [==============================] - 9s 143us/step - loss: 0.2960 - val_loss: 0.2887\n",
            "Epoch 13/15\n",
            "60000/60000 [==============================] - 9s 143us/step - loss: 0.2955 - val_loss: 0.2914\n",
            "Epoch 14/15\n",
            "60000/60000 [==============================] - 9s 143us/step - loss: 0.2947 - val_loss: 0.2919\n",
            "Epoch 15/15\n",
            "60000/60000 [==============================] - 9s 144us/step - loss: 0.2941 - val_loss: 0.2860\n"
          ],
          "name": "stdout"
        },
        {
          "output_type": "execute_result",
          "data": {
            "text/plain": [
              "<keras.callbacks.History at 0x7ff384890b00>"
            ]
          },
          "metadata": {
            "tags": []
          },
          "execution_count": 7
        }
      ]
    },
    {
      "metadata": {
        "id": "ylxnhkLU6EOw",
        "colab_type": "code",
        "colab": {
          "base_uri": "https://localhost:8080/",
          "height": 264
        },
        "outputId": "eca8c311-1278-4267-c865-fcfe76bae59f"
      },
      "cell_type": "code",
      "source": [
        "decoded_imgs = autoencoder.predict(x_test)\n",
        "\n",
        "n = 10\n",
        "plt.figure(figsize=(20, 4))\n",
        "for i in range(n):\n",
        "    # display original\n",
        "    ax = plt.subplot(2, n, i+1)\n",
        "    plt.imshow(x_test[i].reshape(28, 28))\n",
        "    plt.gray()\n",
        "    ax.get_xaxis().set_visible(False)\n",
        "    ax.get_yaxis().set_visible(False)\n",
        "\n",
        "    # display reconstruction\n",
        "    ax = plt.subplot(2, n, i + n+1)\n",
        "    plt.imshow(decoded_imgs[i].reshape(28, 28))\n",
        "    plt.gray()\n",
        "    ax.get_xaxis().set_visible(False)\n",
        "    ax.get_yaxis().set_visible(False)\n",
        "plt.show()"
      ],
      "execution_count": 8,
      "outputs": [
        {
          "output_type": "display_data",
          "data": {
            "image/png": "[encoded data removed]",
            "text/plain": [
              "<matplotlib.figure.Figure at 0x7ff38bf42a20>"
            ]
          },
          "metadata": {
            "tags": []
          }
        }
      ]
    },
    {
      "metadata": {
        "id": "-lxWOjwq7Rzi",
        "colab_type": "text"
      },
      "cell_type": "markdown",
      "source": [
        "## 2 Image Classification"
      ]
    },
    {
      "metadata": {
        "id": "3yT3VQYy7W6t",
        "colab_type": "text"
      },
      "cell_type": "markdown",
      "source": [
        "### 2.1 Deep CNN"
      ]
    },
    {
      "metadata": {
        "id": "Na29H_l-7WQH",
        "colab_type": "code",
        "colab": {}
      },
      "cell_type": "code",
      "source": [
        "# loading the data \n",
        "\n",
        "(X_train, y_train), (X_test, y_test) = fashion_mnist.load_data()\n",
        "X_train = X_train.reshape(X_train.shape[0], 28, 28,1).astype('float32') / 255\n",
        "X_test = X_test.reshape(X_test.shape[0], 28, 28,1).astype('float32') / 255\n",
        "Y_train = np_utils.to_categorical(y_train, 10)\n",
        "Y_test = np_utils.to_categorical(y_test, 10)"
      ],
      "execution_count": 0,
      "outputs": []
    },
    {
      "metadata": {
        "id": "xXeFSnLb9N2U",
        "colab_type": "code",
        "colab": {
          "base_uri": "https://localhost:8080/",
          "height": 544
        },
        "outputId": "84edb0a6-f2c9-44be-9262-243c0b622f45"
      },
      "cell_type": "code",
      "source": [
        "# Set up the neural network\n",
        "model = Sequential()\n",
        "\n",
        "# First Conv layer\n",
        "model.add(Conv2D(filters=32,\n",
        "                kernel_size=(3,3),\n",
        "                strides=(1,1),\n",
        "                padding='same',\n",
        "                input_shape=(28,28,1),\n",
        "                activation='relu'))\n",
        "# First Pooling layer\n",
        "model.add(MaxPooling2D(pool_size=(2, 2)))\n",
        "\n",
        "# Second Conv layer\n",
        "model.add(Conv2D(filters=64,\n",
        "                kernel_size=(3,3),\n",
        "                 strides=(1,1),\n",
        "                padding='same',\n",
        "                activation='relu'))\n",
        "\n",
        "# Second Pooling layer\n",
        "model.add(MaxPooling2D(pool_size=(2, 2)))\n",
        "\n",
        "# A dropout layer with 0.25 probability\n",
        "model.add(Dropout(0.25))\n",
        "\n",
        "# Third Conv layer\n",
        "model.add(Conv2D(filters=64,\n",
        "                kernel_size=(3,3),\n",
        "                strides=(1,1),\n",
        "                padding='same',\n",
        "                activation='relu'))\n",
        "\n",
        "# Third Pooling layer\n",
        "model.add(MaxPooling2D(pool_size=(2, 2)))\n",
        "model.add(Dropout(0.25))\n",
        "\n",
        "# Following layer\n",
        "model.add(Flatten())\n",
        "model.add(Dense(128,activation='relu'))\n",
        "model.add(Dropout(0.5))\n",
        "model.add(Dense(10,activation='softmax'))\n",
        "\n",
        "model.summary()"
      ],
      "execution_count": 18,
      "outputs": [
        {
          "output_type": "stream",
          "text": [
            "_________________________________________________________________\n",
            "Layer (type)                 Output Shape              Param #   \n",
            "=================================================================\n",
            "conv2d_18 (Conv2D)           (None, 28, 28, 32)        320       \n",
            "_________________________________________________________________\n",
            "max_pooling2d_10 (MaxPooling (None, 14, 14, 32)        0         \n",
            "_________________________________________________________________\n",
            "conv2d_19 (Conv2D)           (None, 14, 14, 64)        18496     \n",
            "_________________________________________________________________\n",
            "max_pooling2d_11 (MaxPooling (None, 7, 7, 64)          0         \n",
            "_________________________________________________________________\n",
            "dropout_11 (Dropout)         (None, 7, 7, 64)          0         \n",
            "_________________________________________________________________\n",
            "conv2d_20 (Conv2D)           (None, 7, 7, 64)          36928     \n",
            "_________________________________________________________________\n",
            "max_pooling2d_12 (MaxPooling (None, 3, 3, 64)          0         \n",
            "_________________________________________________________________\n",
            "dropout_12 (Dropout)         (None, 3, 3, 64)          0         \n",
            "_________________________________________________________________\n",
            "flatten_2 (Flatten)          (None, 576)               0         \n",
            "_________________________________________________________________\n",
            "dense_3 (Dense)              (None, 128)               73856     \n",
            "_________________________________________________________________\n",
            "dropout_13 (Dropout)         (None, 128)               0         \n",
            "_________________________________________________________________\n",
            "dense_4 (Dense)              (None, 10)                1290      \n",
            "=================================================================\n",
            "Total params: 130,890\n",
            "Trainable params: 130,890\n",
            "Non-trainable params: 0\n",
            "_________________________________________________________________\n"
          ],
          "name": "stdout"
        }
      ]
    },
    {
      "metadata": {
        "id": "DB6smwL9_EOf",
        "colab_type": "code",
        "colab": {
          "base_uri": "https://localhost:8080/",
          "height": 411
        },
        "outputId": "acf73d58-6816-4106-eb12-605392115452"
      },
      "cell_type": "code",
      "source": [
        "model.compile(loss='categorical_crossentropy', optimizer='adam',metrics=['accuracy'])\n",
        "\n",
        "model.fit(X_train, Y_train, epochs=10, \n",
        "          batch_size = 128,validation_data=(X_test, Y_test))"
      ],
      "execution_count": 19,
      "outputs": [
        {
          "output_type": "stream",
          "text": [
            "Train on 60000 samples, validate on 10000 samples\n",
            "Epoch 1/10\n",
            "60000/60000 [==============================] - 10s 166us/step - loss: 0.7338 - acc: 0.7352 - val_loss: 0.4219 - val_acc: 0.8461\n",
            "Epoch 2/10\n",
            "60000/60000 [==============================] - 9s 145us/step - loss: 0.4414 - acc: 0.8420 - val_loss: 0.3489 - val_acc: 0.8695\n",
            "Epoch 3/10\n",
            "60000/60000 [==============================] - 9s 146us/step - loss: 0.3768 - acc: 0.8639 - val_loss: 0.3210 - val_acc: 0.8792\n",
            "Epoch 4/10\n",
            "60000/60000 [==============================] - 9s 145us/step - loss: 0.3427 - acc: 0.8763 - val_loss: 0.2865 - val_acc: 0.8920\n",
            "Epoch 5/10\n",
            "60000/60000 [==============================] - 9s 144us/step - loss: 0.3201 - acc: 0.8846 - val_loss: 0.2906 - val_acc: 0.8907\n",
            "Epoch 6/10\n",
            "60000/60000 [==============================] - 9s 143us/step - loss: 0.2990 - acc: 0.8905 - val_loss: 0.2625 - val_acc: 0.9034\n",
            "Epoch 7/10\n",
            "60000/60000 [==============================] - 9s 142us/step - loss: 0.2871 - acc: 0.8960 - val_loss: 0.2625 - val_acc: 0.9046\n",
            "Epoch 8/10\n",
            "60000/60000 [==============================] - 8s 141us/step - loss: 0.2750 - acc: 0.9015 - val_loss: 0.2439 - val_acc: 0.9090\n",
            "Epoch 9/10\n",
            "60000/60000 [==============================] - 9s 142us/step - loss: 0.2663 - acc: 0.9029 - val_loss: 0.2397 - val_acc: 0.9093\n",
            "Epoch 10/10\n",
            "60000/60000 [==============================] - 9s 143us/step - loss: 0.2598 - acc: 0.9052 - val_loss: 0.2425 - val_acc: 0.9113\n"
          ],
          "name": "stdout"
        },
        {
          "output_type": "execute_result",
          "data": {
            "text/plain": [
              "<keras.callbacks.History at 0x7ff382df19e8>"
            ]
          },
          "metadata": {
            "tags": []
          },
          "execution_count": 19
        }
      ]
    },
    {
      "metadata": {
        "id": "yPR4Fy3H_EYZ",
        "colab_type": "code",
        "colab": {
          "base_uri": "https://localhost:8080/",
          "height": 85
        },
        "outputId": "509faebf-7a44-4f6b-ebb6-a1537c4f5903"
      },
      "cell_type": "code",
      "source": [
        "# Evaluate the model on test set and training set\n",
        "\n",
        "test_score = model.evaluate(X_test, Y_test)\n",
        "train_score = model.evaluate(X_train, Y_train)\n",
        "print('The accuracy of the trained model on the test set is:',test_score[1],'The loss is:',test_score[0])\n",
        "print('The accuracy of the trained model on the training set is:',train_score[1],'The loss is:',train_score[0])"
      ],
      "execution_count": 20,
      "outputs": [
        {
          "output_type": "stream",
          "text": [
            "10000/10000 [==============================] - 1s 108us/step\n",
            "60000/60000 [==============================] - 6s 102us/step\n",
            "The accuracy of the trained model on the test set is: 0.9113 The loss is: 0.24246345711946488\n",
            "The accuracy of the trained model on the training set is: 0.9282666666666667 The loss is: 0.19070605781128008\n"
          ],
          "name": "stdout"
        }
      ]
    },
    {
      "metadata": {
        "id": "rxC1KsyzCY1E",
        "colab_type": "text"
      },
      "cell_type": "markdown",
      "source": [
        "The neural network I have made contains three convolution layers, the first layer is 32 filters, 3 by 3 kernel sizes, 1 by 1 strides, 'same' padding. The rest of two layers are 64 filters, 3 by 3 kernel sizes, 1 by 1 strides, 'same' padding. And a max pooling layer followed with each convolution layers. After each max pooling layer, a drop out was applied.  \n",
        "\n",
        "The model's perfomance on training set and test set is showing above. "
      ]
    },
    {
      "metadata": {
        "id": "DMw6XcZ_GK7i",
        "colab_type": "text"
      },
      "cell_type": "markdown",
      "source": [
        "### 2.2 Transfer Learning"
      ]
    },
    {
      "metadata": {
        "id": "Pd5wVGD-GPRM",
        "colab_type": "code",
        "colab": {
          "base_uri": "https://localhost:8080/",
          "height": 85
        },
        "outputId": "bbaa408a-3ad6-4956-f469-e10649d4979b"
      },
      "cell_type": "code",
      "source": [
        "(X_train, y_train), (X_test, y_test) = fashion_mnist.load_data()\n",
        "\n",
        "ishape = 32\n",
        "\n",
        "X_train = [cv2.cvtColor(cv2.resize(i,(ishape,ishape)), cv2.COLOR_GRAY2BGR) for i in X_train]\n",
        "X_train = np.concatenate([arr[np.newaxis] for arr in X_train]).astype('float32')\n",
        " \n",
        "X_test  = [cv2.cvtColor(cv2.resize(i,(ishape,ishape)), cv2.COLOR_GRAY2BGR) for i in X_test ]\n",
        "X_test  = np.concatenate([arr[np.newaxis] for arr in X_test] ).astype('float32')\n",
        "\n",
        "X_train.shape\n",
        "X_test.shape\n",
        " \n",
        "X_train /= 255\n",
        "X_test /= 255\n",
        "  \n",
        "def train_y(y):\n",
        "    y_one = np.zeros(10)\n",
        "    y_one[y] = 1\n",
        "    return y_one\n",
        "    \n",
        "y_train = np.array([train_y(y_train[i]) for i in range(len(y_train))])\n",
        "y_test  = np.array([train_y(y_test [i]) for i in range(len(y_test ))])\n",
        "\n",
        "print(X_train.shape)\n",
        "print(X_test.shape)\n",
        "print(y_train.shape)\n",
        "print(y_test.shape)"
      ],
      "execution_count": 23,
      "outputs": [
        {
          "output_type": "stream",
          "text": [
            "(60000, 32, 32, 3)\n",
            "(10000, 32, 32, 3)\n",
            "(60000, 10)\n",
            "(10000, 10)\n"
          ],
          "name": "stdout"
        }
      ]
    },
    {
      "metadata": {
        "id": "xaEjD5h-Gtcn",
        "colab_type": "code",
        "colab": {
          "base_uri": "https://localhost:8080/",
          "height": 272
        },
        "outputId": "6e4f0298-d94a-4ec2-9a8c-f95838ab3ea3"
      },
      "cell_type": "code",
      "source": [
        "conv_base = VGG16(weights=\"imagenet\",include_top=False,input_shape=(32,32,3))\n",
        "model = Sequential()\n",
        "model.add(conv_base)\n",
        "model.add(Flatten())\n",
        "model.add(Dense(128, activation=\"relu\"))\n",
        "model.add(Dense(10, activation=\"sigmoid\"))\n",
        "\n",
        "conv_base.trainable = False\n",
        "model.summary()"
      ],
      "execution_count": 25,
      "outputs": [
        {
          "output_type": "stream",
          "text": [
            "_________________________________________________________________\n",
            "Layer (type)                 Output Shape              Param #   \n",
            "=================================================================\n",
            "vgg16 (Model)                (None, 1, 1, 512)         14714688  \n",
            "_________________________________________________________________\n",
            "flatten_4 (Flatten)          (None, 512)               0         \n",
            "_________________________________________________________________\n",
            "dense_7 (Dense)              (None, 128)               65664     \n",
            "_________________________________________________________________\n",
            "dense_8 (Dense)              (None, 10)                1290      \n",
            "=================================================================\n",
            "Total params: 14,781,642\n",
            "Trainable params: 66,954\n",
            "Non-trainable params: 14,714,688\n",
            "_________________________________________________________________\n"
          ],
          "name": "stdout"
        }
      ]
    },
    {
      "metadata": {
        "id": "LxV7eYfpGzUI",
        "colab_type": "code",
        "colab": {
          "base_uri": "https://localhost:8080/",
          "height": 241
        },
        "outputId": "05dd7d7b-1fed-44ad-b1cd-a7ea9db27abd"
      },
      "cell_type": "code",
      "source": [
        "model.compile(loss='categorical_crossentropy', optimizer=RMSprop(1e-4),metrics=['accuracy'])\n",
        "\n",
        "model.fit(X_train, y_train, epochs=5, \n",
        "          batch_size = 128,\n",
        "          validation_data=(X_test,y_test))"
      ],
      "execution_count": 26,
      "outputs": [
        {
          "output_type": "stream",
          "text": [
            "Train on 60000 samples, validate on 10000 samples\n",
            "Epoch 1/5\n",
            "60000/60000 [==============================] - 24s 399us/step - loss: 1.3959 - acc: 0.6414 - val_loss: 0.8334 - val_acc: 0.7471\n",
            "Epoch 2/5\n",
            "60000/60000 [==============================] - 22s 366us/step - loss: 0.6966 - acc: 0.7747 - val_loss: 0.6369 - val_acc: 0.7852\n",
            "Epoch 3/5\n",
            "60000/60000 [==============================] - 22s 365us/step - loss: 0.5867 - acc: 0.7998 - val_loss: 0.5704 - val_acc: 0.8054\n",
            "Epoch 4/5\n",
            "60000/60000 [==============================] - 22s 366us/step - loss: 0.5385 - acc: 0.8129 - val_loss: 0.5348 - val_acc: 0.8159\n",
            "Epoch 5/5\n",
            "60000/60000 [==============================] - 22s 365us/step - loss: 0.5089 - acc: 0.8228 - val_loss: 0.5114 - val_acc: 0.8221\n"
          ],
          "name": "stdout"
        },
        {
          "output_type": "execute_result",
          "data": {
            "text/plain": [
              "<keras.callbacks.History at 0x7ff38013a240>"
            ]
          },
          "metadata": {
            "tags": []
          },
          "execution_count": 26
        }
      ]
    },
    {
      "metadata": {
        "id": "_jAMnS_MGzbg",
        "colab_type": "code",
        "colab": {
          "base_uri": "https://localhost:8080/",
          "height": 85
        },
        "outputId": "0bf0c173-e123-4b91-e673-0ea20fa4833c"
      },
      "cell_type": "code",
      "source": [
        "# Evaluate the model on test set and training set\n",
        "\n",
        "test_score = model.evaluate(X_test, y_test)\n",
        "train_score = model.evaluate(X_train, y_train)\n",
        "print('The accuracy of the trained model on the test set is:',test_score[1],'The loss is:',test_score[0])\n",
        "print('The accuracy of the trained model on the training set is:',train_score[1],'The loss is:',train_score[0])"
      ],
      "execution_count": 27,
      "outputs": [
        {
          "output_type": "stream",
          "text": [
            "10000/10000 [==============================] - 6s 575us/step\n",
            "60000/60000 [==============================] - 33s 551us/step\n",
            "The accuracy of the trained model on the test set is: 0.8221 The loss is: 0.5114332280158996\n",
            "The accuracy of the trained model on the training set is: 0.8267166666666667 The loss is: 0.4954382038195928\n"
          ],
          "name": "stdout"
        }
      ]
    },
    {
      "metadata": {
        "id": "KrIStsWhKb5d",
        "colab_type": "text"
      },
      "cell_type": "markdown",
      "source": [
        "The performance of the VGG model on training set and test is showing above, obviously the performance is worse than the deep CNN model. "
      ]
    },
    {
      "metadata": {
        "id": "hIX0eu7JK0yw",
        "colab_type": "text"
      },
      "cell_type": "markdown",
      "source": [
        "## 3 Text Classification"
      ]
    },
    {
      "metadata": {
        "id": "m6YVLP70K7Te",
        "colab_type": "text"
      },
      "cell_type": "markdown",
      "source": [
        "### 3.1 RNN"
      ]
    },
    {
      "metadata": {
        "id": "GpUeRHMYLG_g",
        "colab_type": "code",
        "colab": {}
      },
      "cell_type": "code",
      "source": [
        "#load the data\n",
        "benign = requests.get('https://s3.amazonaws.com/anly-590/url-classification/benign-urls.txt').text.split('\\n')\n",
        "malicious = requests.get('https://s3.amazonaws.com/anly-590/url-classification/malicious-urls.txt').text.split('\\n')\n",
        "X = benign+malicious\n",
        "Y = [1 for _ in range(len(benign))]+[0 for _ in range(len(malicious))]\n",
        "\n",
        "X_train,X_test,Y_train,Y_test = train_test_split(X,Y,test_size=0.2)"
      ],
      "execution_count": 0,
      "outputs": []
    },
    {
      "metadata": {
        "id": "KVoBJfoaMQgj",
        "colab_type": "code",
        "colab": {}
      },
      "cell_type": "code",
      "source": [
        "#Process the data\n",
        "max_words = 70\n",
        "max_len = 150\n",
        "tok = Tokenizer(lower = False, char_level = True, filters=None)\n",
        "tok.fit_on_texts(X_train)\n",
        "sequences = tok.texts_to_sequences(X_train)\n",
        "sequences_matrix = sequence.pad_sequences(sequences,maxlen=max_len)\n",
        "test_sequences = tok.texts_to_sequences(X_test)\n",
        "test_sequences_matrix = sequence.pad_sequences(test_sequences,maxlen=max_len)"
      ],
      "execution_count": 0,
      "outputs": []
    },
    {
      "metadata": {
        "id": "f1UxTxcVMSzV",
        "colab_type": "code",
        "colab": {
          "base_uri": "https://localhost:8080/",
          "height": 272
        },
        "outputId": "f3bcfae7-2b30-4869-80be-74b57e9c8669"
      },
      "cell_type": "code",
      "source": [
        "#define the RNN model\n",
        "rnn_model = Sequential()\n",
        "rnn_model.add(Embedding(max_words, 64))\n",
        "rnn_model.add(Bidirectional(LSTM(64,activation=\"tanh\")))\n",
        "rnn_model.add(Dropout(0.5))\n",
        "rnn_model.add(Dense(1, activation='sigmoid'))\n",
        "rnn_model.summary()\n",
        "rnn_model.compile(loss='binary_crossentropy',optimizer=RMSprop(),metrics=['accuracy'])"
      ],
      "execution_count": 34,
      "outputs": [
        {
          "output_type": "stream",
          "text": [
            "_________________________________________________________________\n",
            "Layer (type)                 Output Shape              Param #   \n",
            "=================================================================\n",
            "embedding_1 (Embedding)      (None, None, 64)          4480      \n",
            "_________________________________________________________________\n",
            "bidirectional_1 (Bidirection (None, 128)               66048     \n",
            "_________________________________________________________________\n",
            "dropout_14 (Dropout)         (None, 128)               0         \n",
            "_________________________________________________________________\n",
            "dense_9 (Dense)              (None, 1)                 129       \n",
            "=================================================================\n",
            "Total params: 70,657\n",
            "Trainable params: 70,657\n",
            "Non-trainable params: 0\n",
            "_________________________________________________________________\n"
          ],
          "name": "stdout"
        }
      ]
    },
    {
      "metadata": {
        "id": "aa0m8xxzMTGP",
        "colab_type": "code",
        "colab": {
          "base_uri": "https://localhost:8080/",
          "height": 204
        },
        "outputId": "89bc5dfe-d609-4284-a56a-208c3f149cdd"
      },
      "cell_type": "code",
      "source": [
        "rnn_model.fit(sequences_matrix,Y_train,batch_size=128,epochs=5)"
      ],
      "execution_count": 35,
      "outputs": [
        {
          "output_type": "stream",
          "text": [
            "Epoch 1/5\n",
            "53883/53883 [==============================] - 294s 5ms/step - loss: 0.0620 - acc: 0.9804\n",
            "Epoch 2/5\n",
            "53883/53883 [==============================] - 292s 5ms/step - loss: 0.0291 - acc: 0.9861\n",
            "Epoch 3/5\n",
            "53883/53883 [==============================] - 292s 5ms/step - loss: 0.0270 - acc: 0.9876\n",
            "Epoch 4/5\n",
            "53883/53883 [==============================] - 292s 5ms/step - loss: 0.0250 - acc: 0.9888\n",
            "Epoch 5/5\n",
            "53883/53883 [==============================] - 292s 5ms/step - loss: 0.0254 - acc: 0.9885\n"
          ],
          "name": "stdout"
        },
        {
          "output_type": "execute_result",
          "data": {
            "text/plain": [
              "<keras.callbacks.History at 0x7ff3827529e8>"
            ]
          },
          "metadata": {
            "tags": []
          },
          "execution_count": 35
        }
      ]
    },
    {
      "metadata": {
        "id": "HRm4Z9FrMWob",
        "colab_type": "code",
        "colab": {
          "base_uri": "https://localhost:8080/",
          "height": 51
        },
        "outputId": "785fa49c-11f3-4f07-e296-e597b4db7b72"
      },
      "cell_type": "code",
      "source": [
        "test_score = rnn_model.evaluate(test_sequences_matrix,Y_test)\n",
        "print('The accuracy of the trained model on the test set is:',test_score[1],'The loss is:',test_score[0])"
      ],
      "execution_count": 37,
      "outputs": [
        {
          "output_type": "stream",
          "text": [
            "13471/13471 [==============================] - 73s 5ms/step\n",
            "The accuracy of the trained model on the test set is: 0.9881968673446663 The loss is: 0.024096711008943388\n"
          ],
          "name": "stdout"
        }
      ]
    },
    {
      "metadata": {
        "id": "BmsSwaiOaUAh",
        "colab_type": "text"
      },
      "cell_type": "markdown",
      "source": [
        "For the Recurrent Neural Network model trained above, I choose the LSTM, it performs really good on the test set which yield a pretty high accuracy score 0.98819, and a low loss 0.02409. "
      ]
    },
    {
      "metadata": {
        "id": "u6jJXs2DMoeS",
        "colab_type": "text"
      },
      "cell_type": "markdown",
      "source": [
        "### 3.2 CNN"
      ]
    },
    {
      "metadata": {
        "id": "vMaCrg6GMWsi",
        "colab_type": "code",
        "colab": {
          "base_uri": "https://localhost:8080/",
          "height": 408
        },
        "outputId": "d6749d6b-5fba-49b8-a793-7bc8a116727f"
      },
      "cell_type": "code",
      "source": [
        "#For CNN text Classification\n",
        "Y_train_cnn = to_categorical(Y_train, num_classes = 2)\n",
        "Y_test_cnn = to_categorical(Y_test, num_classes = 2)\n",
        "\n",
        "  \n",
        "cnn_model = Sequential()\n",
        "cnn_model.add(Embedding(max_words,\n",
        "                    64))\n",
        "cnn_model.add(Conv1D(64,\n",
        "                 3,\n",
        "                 padding='valid',\n",
        "                 activation='relu',\n",
        "                 strides=1))\n",
        "cnn_model.add(GlobalMaxPooling1D())\n",
        "cnn_model.add(Dense(64))\n",
        "cnn_model.add(Dropout(0.2))\n",
        "cnn_model.add(Activation('relu'))\n",
        "cnn_model.add(Dense(2))\n",
        "cnn_model.add(Activation('softmax'))\n",
        "cnn_model.summary()"
      ],
      "execution_count": 76,
      "outputs": [
        {
          "output_type": "stream",
          "text": [
            "_________________________________________________________________\n",
            "Layer (type)                 Output Shape              Param #   \n",
            "=================================================================\n",
            "embedding_5 (Embedding)      (None, None, 64)          4480      \n",
            "_________________________________________________________________\n",
            "conv1d_4 (Conv1D)            (None, None, 64)          12352     \n",
            "_________________________________________________________________\n",
            "global_max_pooling1d_4 (Glob (None, 64)                0         \n",
            "_________________________________________________________________\n",
            "dense_16 (Dense)             (None, 64)                4160      \n",
            "_________________________________________________________________\n",
            "dropout_18 (Dropout)         (None, 64)                0         \n",
            "_________________________________________________________________\n",
            "activation_7 (Activation)    (None, 64)                0         \n",
            "_________________________________________________________________\n",
            "dense_17 (Dense)             (None, 2)                 130       \n",
            "_________________________________________________________________\n",
            "activation_8 (Activation)    (None, 2)                 0         \n",
            "=================================================================\n",
            "Total params: 21,122\n",
            "Trainable params: 21,122\n",
            "Non-trainable params: 0\n",
            "_________________________________________________________________\n"
          ],
          "name": "stdout"
        }
      ]
    },
    {
      "metadata": {
        "id": "PKBJ9x1LMbYD",
        "colab_type": "code",
        "colab": {
          "base_uri": "https://localhost:8080/",
          "height": 204
        },
        "outputId": "386dbcba-91b1-46e2-8620-1eca86aa0a51"
      },
      "cell_type": "code",
      "source": [
        "cnn_model.compile(loss='binary_crossentropy',\n",
        "              optimizer='adam',\n",
        "              metrics=['acc'])\n",
        "\n",
        "cnn_model.fit(sequences_matrix, Y_train_cnn, batch_size=128, epochs=5)"
      ],
      "execution_count": 77,
      "outputs": [
        {
          "output_type": "stream",
          "text": [
            "Epoch 1/5\n",
            "53883/53883 [==============================] - 6s 119us/step - loss: 0.0889 - acc: 0.9790\n",
            "Epoch 2/5\n",
            "53883/53883 [==============================] - 5s 88us/step - loss: 0.0293 - acc: 0.9872\n",
            "Epoch 3/5\n",
            "53883/53883 [==============================] - 5s 87us/step - loss: 0.0220 - acc: 0.9906\n",
            "Epoch 4/5\n",
            "53883/53883 [==============================] - 5s 87us/step - loss: 0.0185 - acc: 0.9920\n",
            "Epoch 5/5\n",
            "53883/53883 [==============================] - 5s 87us/step - loss: 0.0160 - acc: 0.9931\n"
          ],
          "name": "stdout"
        },
        {
          "output_type": "execute_result",
          "data": {
            "text/plain": [
              "<keras.callbacks.History at 0x7ff362e28b00>"
            ]
          },
          "metadata": {
            "tags": []
          },
          "execution_count": 77
        }
      ]
    },
    {
      "metadata": {
        "id": "8IOprallMbfc",
        "colab_type": "code",
        "colab": {
          "base_uri": "https://localhost:8080/",
          "height": 51
        },
        "outputId": "beaaa47b-6b27-46e9-bb47-29c770240210"
      },
      "cell_type": "code",
      "source": [
        "test_score = cnn_model.evaluate(test_sequences_matrix,Y_test_cnn)\n",
        "print('The accuracy of the trained model on the test set is:',test_score[1],'The loss is:',test_score[0])"
      ],
      "execution_count": 79,
      "outputs": [
        {
          "output_type": "stream",
          "text": [
            "13471/13471 [==============================] - 2s 120us/step\n",
            "The accuracy of the trained model on the test set is: 0.9906465741221884 The loss is: 0.020431507240649568\n"
          ],
          "name": "stdout"
        }
      ]
    },
    {
      "metadata": {
        "id": "Y6ZtnsdUdyvY",
        "colab_type": "text"
      },
      "cell_type": "markdown",
      "source": [
        "For the Convolutional Neural Network model with 1D, it performs really good on the test set which yield a pretty high accuracy score 0.99, and a low loss 0.0204. "
      ]
    },
    {
      "metadata": {
        "id": "kcyEUNxmeFJb",
        "colab_type": "text"
      },
      "cell_type": "markdown",
      "source": [
        "### 3.3"
      ]
    },
    {
      "metadata": {
        "id": "zUUM4zx-e68m",
        "colab_type": "code",
        "colab": {}
      },
      "cell_type": "code",
      "source": [
        "#predition for cnn model\n",
        "y_test_preds_cnn       = cnn_model.predict(test_sequences_matrix, batch_size=64)\n",
        "y_test_preds_cnn_T = y_test_preds_cnn.transpose()\n",
        "y_test_preds_cnn_2 = y_test_preds_cnn_T[1]\n",
        "y_test_preds_cnn_2 = np.array([y_test_preds_cnn_2]).T\n",
        "y_test_preds_cnn_2\n",
        "\n",
        "# predition for RNN model\n",
        "y_test_preds_rnn       = rnn_model.predict(test_sequences_matrix, batch_size=64)\n"
      ],
      "execution_count": 0,
      "outputs": []
    },
    {
      "metadata": {
        "id": "HXPHiYz7eHr4",
        "colab_type": "code",
        "colab": {
          "base_uri": "https://localhost:8080/",
          "height": 376
        },
        "outputId": "e6f159af-829d-4b07-f22e-849880254b1c"
      },
      "cell_type": "code",
      "source": [
        "from sklearn.metrics import roc_curve\n",
        "from sklearn.metrics import auc\n",
        "\n",
        "false_positive_r, true_positive_r, thresholds_r = roc_curve(Y_test, y_test_preds_rnn)\n",
        "false_positive_c, true_positive_c, thresholds_c = roc_curve(Y_test, y_test_preds_cnn_2)\n",
        "plt.plot(false_positive_r, true_positive_r, label='rnn(area = {:.3f})'.format(auc(false_positive_r, true_positive_r)))\n",
        "plt.plot(false_positive_c, true_positive_c, label='cnn (area = {:.3f})'.format(auc(false_positive_c, true_positive_c)))\n",
        "plt.xlabel('FP')\n",
        "plt.ylabel('TP')\n",
        "plt.title('ROC')\n",
        "plt.legend(loc='right')\n",
        "plt.show()"
      ],
      "execution_count": 124,
      "outputs": [
        {
          "output_type": "display_data",
          "data": {
            "image/png": "[encoded data removed]",
            "text/plain": [
              "<matplotlib.figure.Figure at 0x7ff3628fb6a0>"
            ]
          },
          "metadata": {
            "tags": []
          }
        }
      ]
    },
    {
      "metadata": {
        "id": "e_vORkP4q18T",
        "colab_type": "text"
      },
      "cell_type": "markdown",
      "source": [
        "According to the ROC curve plot for the CNN and RNN models above, both of them are perform perfect, one area is 0.993, another is 0.996. The CNN model has a little bit better than RNN model. Also, the training time of CNN is faster than RNN a lot which is almost 100 times. "
      ]
    }
  ]
}
