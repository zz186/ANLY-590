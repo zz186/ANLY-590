{
 "cells": [
  {
   "cell_type": "code",
   "execution_count": null,
   "metadata": {},
   "outputs": [],
   "source": [
    "\"\"\"\n",
    "Assignment \n",
    "\n",
    "1 Regularization.\n",
    "\n",
    "Using the accompanying Hitters dataset (found here), we will explore regression models to predict a player's Salary from other variables. You can use any programming languages or frameworks that you wish.\n",
    "\n",
    "1.1 Use LASSO regression to predict Salary from the other numeric predictors (you should omit the categorical predictors). \n",
    "1.1.1. Create a visualization of the coefficient trajectories\n",
    "1.1.2. Comment on which are the final three predictors that remain in the model\n",
    "1.1.3. Use cross-validation to find the optimal value of the regularization penalty\n",
    "1.1.4. How many predictors are left in that model?\n",
    "\n",
    "1.2 Repeat with Ridge Regression. \n",
    "1.2.1 Visualize the coefficient trajectories\n",
    "1.2.2 Use cross-validation to find the optimal value of the regularization penalty\n",
    "\n",
    "2 Short Answer. \n",
    "2.1 Explain in your own words the bias-variance tradeoff\n",
    "2.2 What role does regularization play in this tradeoff? \n",
    "2.3 Make reference to your findings in number (1) to describe models of high/low bias and variance\n",
    "\"\"\""
   ]
  },
  {
   "cell_type": "markdown",
   "metadata": {},
   "source": [
    "# Ze Zheng\n",
    "# Problem 1"
   ]
  },
  {
   "cell_type": "code",
   "execution_count": 2,
   "metadata": {},
   "outputs": [],
   "source": [
    "import matplotlib.pyplot as plt\n",
    "import numpy as np\n",
    "import pandas as pd\n",
    "from sklearn.linear_model import Lasso, LassoCV, Ridge, RidgeCV\n",
    "#from sklearn.metrics import mean_squared_error\n",
    "from sklearn.model_selection import train_test_split\n",
    "from sklearn.preprocessing import scale\n",
    "\n",
    "%matplotlib inline"
   ]
  },
  {
   "cell_type": "code",
   "execution_count": 4,
   "metadata": {},
   "outputs": [
    {
     "data": {
      "text/plain": [
       "Text(0.5,1,'Lasso Coefficients Trajectory')"
      ]
     },
     "execution_count": 4,
     "metadata": {},
     "output_type": "execute_result"
    },
    {
     "data": {
      "image/png": "[encoded data removed]",
      "text/plain": [
       "<Figure size 432x288 with 1 Axes>"
      ]
     },
     "metadata": {},
     "output_type": "display_data"
    }
   ],
   "source": [
    "hitters = pd.read_csv(\"Hitters.csv\")\n",
    "# remove non-numeric columns\n",
    "hitters_df =  hitters.drop(columns=['League','Division','NewLeague'])\n",
    "# remove first column and NA records\n",
    "hitters_df = hitters_df.dropna().drop(['Unnamed: 0'],axis=1)\n",
    "\n",
    "x = hitters_df.drop(['Salary'],axis=1)\n",
    "y = hitters_df['Salary']\n",
    "\n",
    "\n",
    "alphas = 10**np.linspace(10,-2,100)*0.5\n",
    "\n",
    "# Split data into training and test sets\n",
    "X_train, X_test, y_train, y_test = train_test_split(x, y, test_size=0.3, random_state=1)\n",
    "\n",
    "\n",
    "# Create a visualization of the coefficient trajectories\n",
    "\n",
    "# Lasso\n",
    "lasso = Lasso(max_iter = 10000, normalize = True)\n",
    "coefs = []\n",
    "\n",
    "for i in alphas:\n",
    "    lasso.set_params(alpha=i)\n",
    "    lasso.fit(scale(X_train), y_train)\n",
    "    coefs.append(lasso.coef_)\n",
    "    \n",
    "ax = plt.gca()\n",
    "ax.plot(alphas*2, coefs)\n",
    "ax.set_xscale('log')\n",
    "plt.axis('tight')\n",
    "plt.xlabel('alpha')\n",
    "plt.ylabel('coefficient')\n",
    "plt.title('Lasso Coefficients Trajectory')\n"
   ]
  },
  {
   "cell_type": "code",
   "execution_count": 5,
   "metadata": {},
   "outputs": [
    {
     "name": "stdout",
     "output_type": "stream",
     "text": [
      "AtBat      0.000000\n",
      "Hits       0.329475\n",
      "HmRun      0.000000\n",
      "Runs       0.000000\n",
      "RBI        0.000000\n",
      "Walks      0.000000\n",
      "Years      0.000000\n",
      "CAtBat     0.000000\n",
      "CHits      0.000000\n",
      "CHmRun     0.000000\n",
      "CRuns      0.076322\n",
      "CRBI       0.204475\n",
      "CWalks     0.000000\n",
      "PutOuts    0.000000\n",
      "Assists    0.000000\n",
      "Errors     0.000000\n",
      "dtype: float64\n",
      "\n",
      "Arrcording to the output above, we can see the final three predictors that remain in the model are 'Hits', 'CRuns'.'CRBI'\n"
     ]
    }
   ],
   "source": [
    "# Comment on which are the final three predictors that remain in the model\n",
    "lasso = Lasso(alpha=10, max_iter=10000, normalize=True)\n",
    "lasso.fit(x, y)\n",
    "pd.Series(lasso.coef_, index=x.columns)\n",
    "\n",
    "print(pd.Series(lasso.coef_, index=x.columns))\n",
    "print('')\n",
    "print(\"Arrcording to the output above, we can see the final three predictors that remain in the model are 'Hits', 'CRuns'.'CRBI'\")\n"
   ]
  },
  {
   "cell_type": "code",
   "execution_count": 6,
   "metadata": {},
   "outputs": [
    {
     "name": "stdout",
     "output_type": "stream",
     "text": [
      "The optimal value of the regularization penalty is 0.07425688482302709\n"
     ]
    }
   ],
   "source": [
    "# Use cross-validation to find the optimal value of the regularization penalty\n",
    "lassocv = LassoCV(alphas = None, cv = 10, max_iter = 100000, normalize = True)\n",
    "lassocv.fit(X_train, y_train)\n",
    "lasso.set_params(alpha=lassocv.alpha_)\n",
    "print('The optimal value of the regularization penalty is',lassocv.alpha_)"
   ]
  },
  {
   "cell_type": "code",
   "execution_count": 7,
   "metadata": {},
   "outputs": [
    {
     "name": "stdout",
     "output_type": "stream",
     "text": [
      "AtBat     -2.057481\n",
      "Hits       6.923050\n",
      "HmRun      0.000000\n",
      "Runs      -0.487891\n",
      "RBI        0.464623\n",
      "Walks      5.421975\n",
      "Years     -6.623436\n",
      "CAtBat    -0.075137\n",
      "CHits      0.000000\n",
      "CHmRun     0.209829\n",
      "CRuns      1.158378\n",
      "CRBI       0.551134\n",
      "CWalks    -0.671291\n",
      "PutOuts    0.291914\n",
      "Assists    0.294058\n",
      "Errors    -2.394725\n",
      "dtype: float64\n",
      "\n",
      "There are 14 predictors are left in the model\n"
     ]
    }
   ],
   "source": [
    "#How many predictors are left in that model?\n",
    "lasso.fit(x, y)\n",
    "\n",
    "pd.Series(lasso.coef_, index=x.columns)\n",
    "print(pd.Series(lasso.coef_, index=x.columns))\n",
    "print('')\n",
    "print('There are 14 predictors are left in the model')"
   ]
  },
  {
   "cell_type": "markdown",
   "metadata": {},
   "source": [
    "# Problem 2"
   ]
  },
  {
   "cell_type": "code",
   "execution_count": 21,
   "metadata": {},
   "outputs": [
    {
     "data": {
      "text/plain": [
       "Text(0.5,1,'Ridge Coefficients Trajectory')"
      ]
     },
     "execution_count": 21,
     "metadata": {},
     "output_type": "execute_result"
    },
    {
     "data": {
      "image/png": "[encoded data removed]",
      "text/plain": [
       "<Figure size 432x288 with 1 Axes>"
      ]
     },
     "metadata": {},
     "output_type": "display_data"
    }
   ],
   "source": [
    "# Visualize the coefficient trajectories\n",
    "# Ridge\n",
    "ridge = Ridge(normalize = True)\n",
    "ridge_coefs = []\n",
    "\n",
    "alphas = 10**np.linspace(10,-2,100)*0.5\n",
    "\n",
    "for j in alphas:\n",
    "    ridge.set_params(alpha=j)\n",
    "    ridge.fit(scale(X_train), y_train)\n",
    "    ridge_coefs.append(ridge.coef_)\n",
    "    \n",
    "ax = plt.gca()\n",
    "ax.plot(alphas*2, ridge_coefs)\n",
    "ax.set_xscale('log')\n",
    "plt.axis('tight')\n",
    "plt.xlabel('alpha')\n",
    "plt.ylabel('coefficient')\n",
    "plt.title('Ridge Coefficients Trajectory')"
   ]
  },
  {
   "cell_type": "code",
   "execution_count": 34,
   "metadata": {},
   "outputs": [
    {
     "name": "stdout",
     "output_type": "stream",
     "text": [
      "The optimal value of the regularization penalty is 0.008737642000038414\n"
     ]
    }
   ],
   "source": [
    "# Use cross-validation to find the optimal value of the regularization penalty\n",
    "ridgecv = RidgeCV(alphas = alphas, scoring='neg_mean_squared_error', normalize = True)\n",
    "ridgecv.fit(X_train, y_train)\n",
    "ridge.set_params(alpha=ridgecv.alpha_)\n",
    "print('The optimal value of the regularization penalty is',ridgecv.alpha_)"
   ]
  },
  {
   "cell_type": "markdown",
   "metadata": {},
   "source": [
    "# Short Answer"
   ]
  },
  {
   "cell_type": "markdown",
   "metadata": {},
   "source": [
    "Question: Explain in your own words the bias-variance tradeoff\n",
    "\n",
    "In my opinion, bias and variance are used to measure the accuracy and precision of a model, but they indicate two different aspects of the measurement. The best model would have low bias and low variance after trained the training data, but we cannot promise to keep both bias and variance low in our real world. Therefore, the bias-variance tradeoff could sacifice one or both of them a little bit higher which could keep both of them relatively low, rather than making one is high and another one is low. \n"
   ]
  },
  {
   "cell_type": "markdown",
   "metadata": {},
   "source": [
    "Question: What role does regularization play in this tradeoff? \n",
    "\n",
    "Sometimes, we encounter the overfitting issue for the trained model, we could use the regularization in this tradeoff to prevent overfitting because the regularization would increase bias and decrease variance. "
   ]
  },
  {
   "cell_type": "markdown",
   "metadata": {},
   "source": [
    "Question: Make reference to your findings in number (1) to describe models of high/low bias and variance\n",
    "\n",
    "For both Lasso and Ridge models, we got small value alphas which are 0.07425688482302709 and 0.008737642000038414 respectively.When alpha = 0, the penalty term has no effect, and ridge regression will produce the least squares estimates. Hence, both models have low bias but high variance. "
   ]
  },
  {
   "cell_type": "code",
   "execution_count": null,
   "metadata": {},
   "outputs": [],
   "source": []
  }
 ],
 "metadata": {
  "kernelspec": {
   "display_name": "Python 3",
   "language": "python",
   "name": "python3"
  },
  "language_info": {
   "codemirror_mode": {
    "name": "ipython",
    "version": 3
   },
   "file_extension": ".py",
   "mimetype": "text/x-python",
   "name": "python",
   "nbconvert_exporter": "python",
   "pygments_lexer": "ipython3",
   "version": "3.6.5"
  }
 },
 "nbformat": 4,
 "nbformat_minor": 2
}
